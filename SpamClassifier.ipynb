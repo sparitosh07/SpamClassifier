{
 "metadata": {
  "language_info": {
   "codemirror_mode": {
    "name": "ipython",
    "version": 3
   },
   "file_extension": ".py",
   "mimetype": "text/x-python",
   "name": "python",
   "nbconvert_exporter": "python",
   "pygments_lexer": "ipython3",
   "version": "3.7.1-final"
  },
  "orig_nbformat": 2,
  "kernelspec": {
   "name": "python3",
   "display_name": "Python 3"
  }
 },
 "nbformat": 4,
 "nbformat_minor": 2,
 "cells": [
  {
   "cell_type": "code",
   "execution_count": 102,
   "metadata": {},
   "outputs": [],
   "source": [
    "import random\n",
    "import nltk\n",
    "import pandas as pd\n",
    "from nltk.tokenize import word_tokenize\n",
    "from nltk.corpus import stopwords\n",
    "from nltk.stem.porter import PorterStemmer\n",
    "from nltk.stem import WordNetLemmatizer"
   ]
  },
  {
   "cell_type": "code",
   "execution_count": 110,
   "metadata": {},
   "outputs": [],
   "source": [
    "## Reading the given dataset\n",
    "spam = pd.read_csv('spam.csv',encoding='Windows 1250')\n",
    "# spam = pd.read_csv(\"SMSSpamCollection.txt\", sep = \"\\t\", names=[\"label\", \"message\"])"
   ]
  },
  {
   "cell_type": "code",
   "execution_count": 111,
   "metadata": {},
   "outputs": [
    {
     "output_type": "execute_result",
     "data": {
      "text/plain": "     v1                                                 v2 Unnamed: 2  \\\n0   ham  Go until jurong point, crazy.. Available only ...        NaN   \n1   ham                      Ok lar... Joking wif u oni...        NaN   \n2  spam  Free entry in 2 a wkly comp to win FA Cup fina...        NaN   \n3   ham  U dun say so early hor... U c already then say...        NaN   \n4   ham  Nah I don't think he goes to usf, he lives aro...        NaN   \n\n  Unnamed: 3 Unnamed: 4  \n0        NaN        NaN  \n1        NaN        NaN  \n2        NaN        NaN  \n3        NaN        NaN  \n4        NaN        NaN  ",
      "text/html": "<div>\n<style scoped>\n    .dataframe tbody tr th:only-of-type {\n        vertical-align: middle;\n    }\n\n    .dataframe tbody tr th {\n        vertical-align: top;\n    }\n\n    .dataframe thead th {\n        text-align: right;\n    }\n</style>\n<table border=\"1\" class=\"dataframe\">\n  <thead>\n    <tr style=\"text-align: right;\">\n      <th></th>\n      <th>v1</th>\n      <th>v2</th>\n      <th>Unnamed: 2</th>\n      <th>Unnamed: 3</th>\n      <th>Unnamed: 4</th>\n    </tr>\n  </thead>\n  <tbody>\n    <tr>\n      <th>0</th>\n      <td>ham</td>\n      <td>Go until jurong point, crazy.. Available only ...</td>\n      <td>NaN</td>\n      <td>NaN</td>\n      <td>NaN</td>\n    </tr>\n    <tr>\n      <th>1</th>\n      <td>ham</td>\n      <td>Ok lar... Joking wif u oni...</td>\n      <td>NaN</td>\n      <td>NaN</td>\n      <td>NaN</td>\n    </tr>\n    <tr>\n      <th>2</th>\n      <td>spam</td>\n      <td>Free entry in 2 a wkly comp to win FA Cup fina...</td>\n      <td>NaN</td>\n      <td>NaN</td>\n      <td>NaN</td>\n    </tr>\n    <tr>\n      <th>3</th>\n      <td>ham</td>\n      <td>U dun say so early hor... U c already then say...</td>\n      <td>NaN</td>\n      <td>NaN</td>\n      <td>NaN</td>\n    </tr>\n    <tr>\n      <th>4</th>\n      <td>ham</td>\n      <td>Nah I don't think he goes to usf, he lives aro...</td>\n      <td>NaN</td>\n      <td>NaN</td>\n      <td>NaN</td>\n    </tr>\n  </tbody>\n</table>\n</div>"
     },
     "metadata": {},
     "execution_count": 111
    }
   ],
   "source": [
    "spam.head()"
   ]
  },
  {
   "cell_type": "code",
   "execution_count": 112,
   "metadata": {},
   "outputs": [],
   "source": [
    "spam = spam[['v1','v2']]"
   ]
  },
  {
   "cell_type": "code",
   "execution_count": 107,
   "metadata": {},
   "outputs": [
    {
     "output_type": "execute_result",
     "data": {
      "text/plain": "     v1                                                 v2\n0   ham  Go until jurong point, crazy.. Available only ...\n1   ham                      Ok lar... Joking wif u oni...\n2  spam  Free entry in 2 a wkly comp to win FA Cup fina...\n3   ham  U dun say so early hor... U c already then say...\n4   ham  Nah I don't think he goes to usf, he lives aro...",
      "text/html": "<div>\n<style scoped>\n    .dataframe tbody tr th:only-of-type {\n        vertical-align: middle;\n    }\n\n    .dataframe tbody tr th {\n        vertical-align: top;\n    }\n\n    .dataframe thead th {\n        text-align: right;\n    }\n</style>\n<table border=\"1\" class=\"dataframe\">\n  <thead>\n    <tr style=\"text-align: right;\">\n      <th></th>\n      <th>v1</th>\n      <th>v2</th>\n    </tr>\n  </thead>\n  <tbody>\n    <tr>\n      <th>0</th>\n      <td>ham</td>\n      <td>Go until jurong point, crazy.. Available only ...</td>\n    </tr>\n    <tr>\n      <th>1</th>\n      <td>ham</td>\n      <td>Ok lar... Joking wif u oni...</td>\n    </tr>\n    <tr>\n      <th>2</th>\n      <td>spam</td>\n      <td>Free entry in 2 a wkly comp to win FA Cup fina...</td>\n    </tr>\n    <tr>\n      <th>3</th>\n      <td>ham</td>\n      <td>U dun say so early hor... U c already then say...</td>\n    </tr>\n    <tr>\n      <th>4</th>\n      <td>ham</td>\n      <td>Nah I don't think he goes to usf, he lives aro...</td>\n    </tr>\n  </tbody>\n</table>\n</div>"
     },
     "metadata": {},
     "execution_count": 107
    }
   ],
   "source": [
    "spam.head()"
   ]
  },
  {
   "cell_type": "code",
   "execution_count": 115,
   "metadata": {},
   "outputs": [],
   "source": [
    "## Converting the read dataset in to a list of tuples, each tuple(row) containing the message and it's label\n",
    "data_set = []\n",
    "for index,row in spam.iterrows():\n",
    "    data_set.append((row['v2'], row['v1']))"
   ]
  },
  {
   "cell_type": "code",
   "execution_count": 118,
   "metadata": {},
   "outputs": [
    {
     "output_type": "execute_result",
     "data": {
      "text/plain": "[('Go until jurong point, crazy.. Available only in bugis n great world la e buffet... Cine there got amore wat...',\n  'ham'),\n ('Ok lar... Joking wif u oni...', 'ham'),\n (\"Free entry in 2 a wkly comp to win FA Cup final tkts 21st May 2005. Text FA to 87121 to receive entry question(std txt rate)T&C's apply 08452810075over18's\",\n  'spam'),\n ('U dun say so early hor... U c already then say...', 'ham'),\n (\"Nah I don't think he goes to usf, he lives around here though\", 'ham')]"
     },
     "metadata": {},
     "execution_count": 118
    }
   ],
   "source": [
    "data_set[:5]"
   ]
  },
  {
   "cell_type": "code",
   "execution_count": 113,
   "metadata": {},
   "outputs": [],
   "source": [
    "wordnet = WordNetLemmatizer()\n",
    "porterstemmer = PorterStemmer()"
   ]
  },
  {
   "cell_type": "code",
   "execution_count": 123,
   "metadata": {},
   "outputs": [],
   "source": [
    "def preprocess(message,stem=True):\n",
    "\n",
    "    message = message.lower()\n",
    "    tokens = word_tokenize(message)\n",
    "    \n",
    "    tokens = [token for token in tokens if token not in stopwords.words('english') ]\n",
    "    if stem is True:\n",
    "        words = [porterstemmer.stem(token) for token in tokens]\n",
    "    else:\n",
    "        words = [wordnet.lemmatize(message) for token in tokens]\n",
    "    processedmessage = \" \".join(words)\n",
    "\n",
    "    return processedmessage"
   ]
  },
  {
   "cell_type": "code",
   "execution_count": 124,
   "metadata": {
    "tags": []
   },
   "outputs": [],
   "source": [
    "message_set = []\n",
    "for (message,label) in data_set:\n",
    "    words_filtered = [e for e in preprocess(message).split() if len(e)>3]\n",
    "    message_set.append((words_filtered,label))"
   ]
  },
  {
   "cell_type": "code",
   "execution_count": 126,
   "metadata": {
    "tags": []
   },
   "outputs": [
    {
     "output_type": "stream",
     "name": "stdout",
     "text": "[(['jurong', 'point', 'crazy..', 'avail', 'bugi', 'great', 'world', 'buffet', 'cine', 'amor'], 'ham'), (['joke'], 'ham'), (['free', 'entri', 'wkli', 'comp', 'final', '21st', '2005.', 'text', '87121', 'receiv', 'entri', 'question', 'rate', 'appli', '08452810075over18'], 'spam'), (['earli', 'alreadi'], 'ham'), (['think', 'live', 'around', 'though'], 'ham')]\n"
    }
   ],
   "source": [
    "print(message_set[:5])"
   ]
  },
  {
   "cell_type": "code",
   "execution_count": 142,
   "metadata": {},
   "outputs": [
    {
     "output_type": "execute_result",
     "data": {
      "text/plain": "5572"
     },
     "metadata": {},
     "execution_count": 142
    }
   ],
   "source": [
    "len(message_set)"
   ]
  },
  {
   "cell_type": "code",
   "execution_count": 127,
   "metadata": {},
   "outputs": [],
   "source": [
    "def get_all_words(messages):\n",
    "    all_words = []\n",
    "    for (message,label) in messages:\n",
    "        all_words.extend(message)\n",
    "    return all_words"
   ]
  },
  {
   "cell_type": "code",
   "execution_count": 129,
   "metadata": {},
   "outputs": [],
   "source": [
    "## - creating a final feature list using an intuitive FreqDist, to eliminate all the duplicate words\n",
    "## Note : we can use the Frequency Distribution of the entire dataset to calculate Tf-Idf scores like we did earlier.\n",
    "def get_word_features(wordlist):\n",
    "    wordlist = nltk.FreqDist(wordlist)\n",
    "    word_features = wordlist.keys()\n",
    "    return word_features"
   ]
  },
  {
   "cell_type": "code",
   "execution_count": 132,
   "metadata": {},
   "outputs": [],
   "source": [
    "word_features = get_word_features(get_all_words(message_set))"
   ]
  },
  {
   "cell_type": "code",
   "execution_count": 140,
   "metadata": {},
   "outputs": [
    {
     "output_type": "execute_result",
     "data": {
      "text/plain": "7149"
     },
     "metadata": {},
     "execution_count": 140
    }
   ],
   "source": [
    "len(word_features)"
   ]
  },
  {
   "cell_type": "code",
   "execution_count": 144,
   "metadata": {},
   "outputs": [],
   "source": [
    "sliceIndex = int((len(message_set)*.8))"
   ]
  },
  {
   "cell_type": "code",
   "execution_count": 146,
   "metadata": {},
   "outputs": [],
   "source": [
    "## - shuffle the pack to create a random and unbiased split of the dataset\n",
    "random.shuffle(message_set)"
   ]
  },
  {
   "cell_type": "code",
   "execution_count": 147,
   "metadata": {},
   "outputs": [],
   "source": [
    "train_messages, test_messages = message_set[:sliceIndex], message_set[sliceIndex:]"
   ]
  },
  {
   "cell_type": "code",
   "execution_count": 174,
   "metadata": {},
   "outputs": [],
   "source": [
    "## creating a LazyMap of feature presence for each of the 8K+ features with respect to each of the SMS messages\n",
    "def extract_features(document):\n",
    "    document_words = set(document)\n",
    "    features = {}\n",
    "    for word in word_features:\n",
    "        features['contains(%s)' % word] = (word in document_words)\n",
    "    return features"
   ]
  },
  {
   "cell_type": "code",
   "execution_count": 175,
   "metadata": {},
   "outputs": [],
   "source": [
    "## - creating the feature map of train and test data\n",
    "\n",
    "training_set = nltk.classify.apply_features(extract_features, train_messages)\n",
    "testing_set = nltk.classify.apply_features(extract_features, test_messages)"
   ]
  },
  {
   "cell_type": "code",
   "execution_count": 178,
   "metadata": {
    "tags": [
     "outputPrepend"
    ]
   },
   "outputs": [
    {
     "output_type": "stream",
     "name": "stdout",
     "text": " False, 'contains(prasanth)': False, 'contains(ettan)': False, 'contains(08718738002)': False, 'contains(48922)': False, 'contains(21/11/04)': False, 'contains(appi)': False, 'contains(fizz)': False, 'contains(contain)': False, 'contains(genu)': False, 'contains(robinson)': False, 'contains(not..tel)': False, 'contains(name..)': False, 'contains(imat)': False, 'contains(idiot\\\\)': False, 'contains(msg..sometext)': False, 'contains(07099833605)': False, 'contains(ref:9280114)': False, 'contains(smth..)': False, 'contains(chloe)': False, 'contains(150p/text)': False, 'contains(wewa)': False, 'contains(130.)': False, 'contains(iriv)': False, 'contains(255.)': False, 'contains(da..jst)': False, 'contains(hmmm.but)': False, 'contains(surli)': False, 'contains(07808726822)': False, 'contains(0871-872-9758)': False, 'contains(dokey)': False, 'contains(mmmmmmm)': False, 'contains(*snuggl)': False, 'contains(you*)': False, 'contains(*whispers*)': False, 'contains(healthi)': False, 'contains(2bold)': False, 'contains(giv..it)': False, 'contains(kano..anyway)': False, 'contains(salary..)': False, 'contains(brother‰ű÷)': False, 'contains(scrape)': False, 'contains(barrel)': False, 'contains(misfit)': False, 'contains(ě_..)': False, 'contains(sleepin)': False, 'contains(clearer..)': False, 'contains(peach)': False, 'contains(rayman)': False, 'contains(golf)': False, 'contains(activ8)': False, 'contains(termsappli)': False, 'contains(minor)': False, 'contains(shindig)': False, 'contains(mins/text)': False, 'contains(phonebook)': False, 'contains(shijutta)': False, 'contains(offens)': False, 'contains(bbd..tht)': False, 'contains(cold..heard)': False, 'contains(vinobanagar)': False, 'contains(condition..and)': False, 'contains(ovulate.when)': False, 'contains(\\\\woah\\\\)': False, 'contains(\\\\think)': False, 'contains(second..)': False, 'contains(soon.xxx)': False, 'contains(cool-mob)': False, 'contains(frog-axel)': False, 'contains(akon-lon)': False, 'contains(eyed-dont)': False, 'contains(cashbin.co.uk)': False, 'contains(www.cashbin.co.uk)': False, 'contains(these..)': False, 'contains(canteen)': False, 'contains(stressfull..)': False, 'contains(laugh..)': False, 'contains(ni8..swt)': False, 'contains(presid)': False, 'contains(bedrm)': False, 'contains(support.provid)': False, 'contains(assist)': False, 'contains(when)': False, 'contains(1172.)': False, 'contains(watev)': False, 'contains(built)': False, 'contains(lonlin)': False, 'contains(lotz)': False, 'contains(feeling..)': False, 'contains(gailxx)': False, 'contains(hi..i)': False, 'contains(complac)': False, 'contains(mina)': False, 'contains(miwa)': False, 'contains(hsbc)': False, 'contains(woulda)': False, 'contains(-call)': False, 'contains(09066649731from)': False, 'contains(opposit)': False, 'contains(heavili)': False, 'contains(doll)': False, 'contains(patrick)': False, 'contains(swayz)': False, 'contains(09061702893)': False, 'contains(santa)': False, 'contains(09077818151)': False, 'contains(calls1.50ppm)': False, 'contains(www.santacalling.com)': False, 'contains(miser)': False, 'contains(quarter)': False, 'contains(nervou)': False, 'contains(limp)': False, 'contains(078498****7)': False, 'contains(08719180219)': False, 'contains(06.05.05)': False, 'contains(poorli)': False, 'contains(first-)': False, 'contains(second-)': False, 'contains(smaller)': False, 'contains(capac)': False, 'contains(sms.shsex.netun)': False, 'contains(fgkslpopw)': False, 'contains(fgkslpo)': False, 'contains(0871277810710p/min)': False, 'contains(defer)': False, 'contains(admiss)': False, 'contains(\\\\checkmate\\\\)': False, 'contains(chess)': False, 'contains(persian)': False, 'contains(phrase)': False, 'contains(shah)': False, 'contains(maat\\\\)': False, 'contains(dead..\\\\)': False, 'contains(goodmorning..)': False, 'contains(week+)': False, 'contains(.photoshop)': False, 'contains(08715203652)': False, 'contains(42810)': False, 'contains(29/10/0)': False, 'contains(shoppin)': False, 'contains(too.pray)': False, 'contains(inshah)': False, 'contains(s.thi)': False, 'contains(increas)': False, 'contains(wife.dont)': False, 'contains(it.i)': False, 'contains(too.let)': False, 'contains(north)': False, 'contains(carolina)': False, 'contains(texa)': False, 'contains(bomb)': False, 'contains(\\\\response\\\\)': False, 'contains(weapon)': False, \"contains('heart)\": False, 'contains(lovly..)': False, 'contains(**free)': False, 'contains(message**thank)': False, 'contains(150p/msgrcvd)': False, 'contains(customercar)': False, 'contains(08718726270)': False, 'contains(play..i)': False, 'contains(clas..)': False, 'contains(loooooool)': False, 'contains(\\\\sleep)': False, 'contains(couch\\\\)': False, 'contains(swashbuckl)': False, 'contains(5.terror)': False, 'contains(6.cruel)': False, 'contains(7.romant)': False, 'contains(8.lovabl)': False, 'contains(9.decent)': False, 'contains(.joker)': False, 'contains(gek1510)': False, 'contains(nuther)': False, 'contains(lyricalladi)': False, 'contains(21/f)': False, 'contains(yes-910)': False, 'contains(no-910)': False, 'contains(www.sms.ac/u/hmmross)': False, 'contains(happiest)': False, 'contains(when/wher)': False, 'contains(antibiot)': False, 'contains(abdomen)': False, 'contains(gyna)': False, 'contains(infect)': False, 'contains(6time)': False, 'contains(expos)': False, 'contains(chastiti)': False, 'contains(devic)': False, 'contains(beat)': False, 'contains(tallahasse)': False, 'contains(taka)': False, 'contains(free*)': False, 'contains(pobox202)': False, 'contains(nr31)': False, 'contains(450pw)': False, 'contains(stops.\\\\)': False, \"contains(*didn't*)\": False, 'contains(ritten)': False, 'contains(fold)': False, 'contains(etc.)': False, 'contains(warner)': False, 'contains(83118)': False, 'contains(colin)': False, 'contains(farrel)': False, 'contains(swat)': False, 'contains(msg+ticket)': False, 'contains(kiosk.valid)': False, 'contains(4-7/12)': False, 'contains(kiosk)': False, 'contains(solihul)': False, 'contains(mistake.u)': False, 'contains(born.pleas)': False, 'contains(terminated.w)': False, 'contains(inconveni)': False, 'contains(henri)': False, 'contains(yard)': False, 'contains(bergkamp)': False, 'contains(margin)': False, \"contains(it'snot)\": False, 'contains(unintent)': False, 'contains(nonetheless)': False, 'contains(hooch)': False, 'contains(toaday)': False, 'contains(splat)': False, 'contains(graze)': False, 'contains(knee)': False, 'contains(confirm/deni)': False, 'contains(hearin)': False, 'contains(tortur)': False, 'contains(wasn‰ű÷t)': False, 'contains(sexychat)': False, 'contains(started.india)': False, 'contains(k..k.)': False, 'contains(court)': False, 'contains(chapel)': False, 'contains(frontiervil)': False, 'contains(mountain)': False, 'contains(deer)': False, 'contains(mail.i)': False, 'contains(varma)': False, 'contains(membership.tak)': False, 'contains(care.insha)': False, 'contains(fart)': False, 'contains(7:30)': False, 'contains(ortxt)': False, 'contains(advisor)': False, 'contains(diall)': False, 'contains(woot)': False, 'contains(ahhhh)': False, 'contains(vivek)': False, 'contains(experiencehttp)': False, 'contains(//www.vouch4me.com/etlp/dining.asp)': False, 'contains(kaila)': False, 'contains(09058094507)': False, 'contains(donat)': False, 'contains(ĺł2.50)': False, 'contains(unicef)': False, 'contains(asian)': False, 'contains(fund)': False, 'contains(864233.)': False, 'contains(collaps)': False, 'contains(jade)': False, 'contains(paul)': False, 'contains(barm)': False, 'contains(thinkthi)': False, 'contains(goldvik)': False, 'contains(29/m)': False, 'contains(yes-762)': False, 'contains(no-762)': False, 'contains(www.sms.ac/u/goldvik)': False, 'contains(coulda)': False, 'contains(phoni)': False, 'contains(12:30)': False, 'contains(okday)': False, 'contains(hmph)': False, 'contains(baller)': False, 'contains(punto)': False, 'contains(ĺł125)': False, 'contains(freeentri)': False, 'contains(toyota)': False, 'contains(camri)': False, 'contains(olayiwola)': False, 'contains(mileag)': False, 'contains(k.it)': False, 'contains(clover)': False, 'contains(number.pl)': False, 'contains(id.convey)': False, 'contains(achan)': False, 'contains(amma.rakhesh.qatar)': False, \"contains('rencontr)\": False, 'contains(08714712412)': False, 'contains(něâte)': False, 'contains(puppi)': False, 'contains(nois)': False, 'contains(sarasota)': False, 'contains(150p/meg)': False, 'contains(08715203685)': False, 'contains(code:4xx26)': False, 'contains(13/10/04)': False, 'contains(deepest)': False, 'contains(darkest)': False, 'contains(09094646631)': False, 'contains(vl..do)': False, 'contains(adsens)': False, 'contains(approved..)': False, 'contains(dudett)': False, 'contains(perumbavoor)': False, 'contains(stage)': False, 'contains(cherish)': False, 'contains(clarifi)': False, 'contains(prepon)': False, 'contains(natali)': False, 'contains(20/f)': False, 'contains(yes-165)': False, 'contains(no-165)': False, 'contains(www.sms.ac/u/natalie2k9)': False, 'contains(younger)': False, 'contains(wallpap)': False, 'contains(08701213186)': False, 'contains(desires-)': False, 'contains(liver)': False, 'contains(hmmm.still)': False, 'contains(loneli)': False, 'contains(skyve)': False, 'contains(onword)': False, 'contains(mtnl)': False, 'contains(mumbai)': False, 'contains(83039)': False, 'contains(62735=ĺł450)': False, 'contains(accommodationvouch)': False, 'contains(mustprovid)': False, 'contains(15541)': False, 'contains(number..)': False, 'contains(rajitha)': False, 'contains(ranju)': False, 'contains(88039.)': False, 'contains(tscs08714740323)': False, 'contains(1winawk)': False, 'contains(ĺł1.50perweeksub)': False, 'contains(dear..slp)': False, 'contains(well..tak)': False, 'contains(care..swt)': False, 'contains(dreams..muah..)': False, 'contains(09066361921)': False, 'contains(disagre)': False, 'contains(afterward)': False, 'contains(\\\\keep)': False, 'contains(uawak)': False, 'contains(feellikw)': False, 'contains(shit.justfound)': False, 'contains(alett)': False, 'contains(thatmum)': False, 'contains(gotmarri)': False, 'contains(4thnov.behind)': False, 'contains(ourback)': False, 'contains(fuckinnic)': False, 'contains(rearrang)': False, 'contains(dormitori)': False, 'contains(astronom)': False, 'contains(starer)': False, 'contains(recount)': False, 'contains(mother-in-law)': False, 'contains(hitler)': False, 'contains(eleven)': False, 'contains(=twelv)': False, 'contains(worm)': False, 'contains(dysentri)': False, 'contains(..will)': False, 'contains(andr)': False, 'contains(virgil)': False, 'contains(gokila)': False, 'contains(shanil)': False, 'contains(here.thank)': False, 'contains(exchang)': False, 'contains(uncut)': False, 'contains(stuff.leav)': False, 'contains(dino)': False, 'contains(k.k.thi)': False, 'contains(kote)': False, 'contains(panther)': False, 'contains(sugabab)': False, 'contains(zebra)': False, 'contains(badass)': False, 'contains(hoodi)': False, 'contains(wallpaper-al)': False, 'contains(-tho)': False, 'contains(resent)': False, 'contains(queri)': False, 'contains(customersqueri)': False, 'contains(netvision.uk.com)': False, 'contains(hassl)': False, 'contains(haughaighgtujhyguj)': False, 'contains(fassyol)': False, 'contains(blacko)': False, 'contains(londn)': False, 'contains(4eva)': False, 'contains(08715205273)': False, 'contains(reassur)': False, 'contains(aslamalaikkum)': False, 'contains(.insha)': False, 'contains(tohar)': False, 'contains(beeen)': False, 'contains(muht)': False, 'contains(albi)': False, 'contains(mufti)': False, 'contains(mahfuuz)': False, 'contains(\\\\not)': False, 'contains(enufcredeit)': False, 'contains(tocall.shal)': False, 'contains(ileav)': False, 'contains(+get)': False, 'contains(okor)': False, 'contains(ibor)': False, 'contains(zero)': False, 'contains(goigng)': False, 'contains(perfum)': False, 'contains(sday)': False, 'contains(joined.so)': False, 'contains(grocer)': False, 'contains(franki)': False, 'contains(benni)': False, 'contains(diaper)': False, 'contains(unlik)': False, 'contains(patient)': False, 'contains(turkey)': False, 'contains(garden)': False, 'contains(bulb)': False, 'contains(seed)': False, 'contains(ĺł33:50)': False, 'contains(scotsman)': False, 'contains(notxt.co.uk)': False, 'contains(k..then)': False, 'contains(wenev)': False, 'contains(time..)': False, 'contains(stabil)': False, 'contains(tranquil)': False, 'contains(vibrant)': False, 'contains(bawl)': False, 'contains(failur)': False, 'contains(velusami)': False, 'contains(facil)': False, 'contains(karnan)': False, 'contains(bluray)': False, 'contains(i‰ű÷v)': False, 'contains(salt)': False, 'contains(wound)': False, 'contains(geoenvironment)': False, 'contains(implic)': False, 'contains(fuuuuck)': False, 'contains(salmon)': False, 'contains(wrkin)': False, 'contains(compens)': False, 'contains(awkward)': False, 'contains(splash)': False, 'contains(better..)': False, 'contains(musta)': False, 'contains(overdid)': False, 'contains(www.telediscount.co.uk)': False, 'contains(hi.what)': False, 'contains(gastroenter)': False, 'contains(reduc)': False, 'contains(k.k.how)': False, 'contains(chuck)': False, 'contains(port)': False, 'contains(juswok)': False, 'contains(boatin)': False, 'contains(spinout)': False, 'contains(re-met)': False, 'contains(08715203656)': False, 'contains(42049)': False, 'contains(26/10/04)': False, 'contains(uworld)': False, 'contains(qbank)': False, 'contains(assess)': False, 'contains(someonon)': False, 'contains(09064015307)': False, 'contains(temal)': False, 'contains(vid..not)': False, 'contains(finishd..)': False, 'contains(09061213237)': False, 'contains(m227xi)': False, 'contains(dull)': False, 'contains(treadmil)': False, 'contains(craigslist)': False, 'contains(absolut)': False, 'contains(ni8.swt)': False, 'contains(drms.take)': False, 'contains(swan)': False, 'contains(asap.ok)': False, 'contains(hello.how)': False, 'contains(lamp)': False, 'contains(k.wish)': False, 'contains(foward)': False, 'contains(friendship..)': False, 'contains(09061790126)': False, 'contains(*childish)': False, 'contains(misundrstud)': False, 'contains(177.)': False, 'contains(gene)': False, 'contains(www.ldew.com1win150ppmx3age16subscript)': False, 'contains(reappli)': False, 'contains(treatin)': False, 'contains(treacl)': False, 'contains(mumha)': False, 'contains(beendrop)': False, 'contains(theplac)': False, 'contains(adress)': False, 'contains(7.30.)': False, 'contains(money.i)': False, 'contains(favorit)': False, 'contains(oyster)': False, 'contains(sashimi)': False, 'contains(rumbl)': False, 'contains(marandratha)': False, 'contains(topic)': False, 'contains(correctli)': False, 'contains(alaikkum.prid)': False, 'contains(shop.w)': False, 'contains(qatar.rakhesh)': False, 'contains(indian.pl)': False, 'contains(number.respect)': False, 'contains(gal-can)': False, 'contains(boy-i)': False, 'contains(gal-no)': False, 'contains(heaven)': False, 'contains(prince..gn)': False, 'contains(pisc)': False, 'contains(aquariu)': False, 'contains(steyn)': False, 'contains(wicket)': False, 'contains(sterm)': False, 'contains(resolv)': False, 'contains(hannaford)': False, 'contains(wheat)': False, 'contains(chex)': False, 'contains(pride)': False, 'contains(grownup)': False, 'contains(jerk)': False, 'contains(stink)': False, 'contains(textcomp)': False, 'contains(subsequ)': False, 'contains(150p/msg.2)': False, 'contains(upcharg)': False, 'contains(8-hr)': False, 'contains(guai)': False, 'contains(bottl)': False, 'contains(amus)': False, 'contains(astrolog)': False, 'contains(slack)': False, 'contains(office..stil)': False, 'contains(forms.don)': False, 'contains(mentor)': False, 'contains(percent)': False, 'contains(09095350301)': False, 'contains(erot)': False, 'contains(ecstaci)': False, 'contains(dept)': False, 'contains(13/4/04)': False, 'contains(08717507382)': False, 'contains(coincid)': False, 'contains(sane)': False, 'contains(151.)': False, 'contains(paus)': False, 'contains(gr8prize)': False, 'contains(8800)': False, 'contains(wk.txt)': False, 'contains(80878)': False, 'contains(http//www.gr8prizes.com)': False, 'contains(spacebuck)': False, 'contains(0207-083-6089)': False, 'contains(squeez)': False, 'contains(me.remov)': False, 'contains(5.iĺőm)': False, 'contains(dread)': False, 'contains(thou)': False, 'contains(forgt)': False, 'contains(ajith)': False, 'contains(ooooooh)': False, 'contains(yovil)': False, 'contains(mega)': False, 'contains(asda)': False, 'contains(.that)': False, 'contains(seper)': False, 'contains(žö´‰ó_)': False, 'contains(‹ű¬ud)': False, 'contains(brolli)': False, 'contains(franxx)': False, 'contains(prometazin)': False, 'contains(syrup)': False, 'contains(feed)': False, 'contains(singapor)': False, 'contains(victoria)': False, 'contains(pocay)': False, 'contains(wocay)': False, 'contains(2morrowxxxx)': False, 'contains(broth)': False, 'contains(ramen)': False, 'contains(fowler)': False, 'contains(k..sri)': False, 'contains(siva..tat)': False, 'contains(askd..)': False, 'contains(flew)': False, 'contains(09058094583)': False, 'contains(15:26)': False, 'contains(pub/caf)': False, 'contains(attent)': False, 'contains(youdo)': False, 'contains(worc)': False, 'contains(foreg)': False, 'contains(shrub)': False, 'contains(get4an18th)': False, 'contains(32000)': False, 'contains(legitimat)': False, 'contains(efreefon)': False, 'contains(pendent)': False, 'contains(toilet)': False, 'contains(stolen)': False, 'contains(navig)': False, 'contains(guidanc)': False, 'contains(chick)': False, 'contains(boob)': False, 'contains(\\\\for)': False, 'contains(sparkl)': False, 'contains(0121)': False, 'contains(2025050)': False, 'contains(www.shortbreaks.org.uk\\\\)': False, 'contains(gyno)': False, 'contains(www.gamb.tv)': False, 'contains(treasur)': False, 'contains(http//tm)': False, 'contains(id=820554ad0a1705572711)': False, 'contains(first=trueĺác)': False, 'contains(ringtoneĺá)': False, 'contains(09050000332)': False, 'contains(hmmmm)': False, 'contains(dhoni)': False, 'contains(title.so)': False, 'contains(command)': False, 'contains(holbi)': False, 'contains(09064017295)': False, 'contains(yeovil)': False, 'contains(motor)': False, 'contains(rhode)': False, 'contains(bong)': False, 'contains(ofcours)': False, 'contains(08448350055)': False, 'contains(planettalkinstant.com)': False, 'contains(lot..i)': False, 'contains(marvel)': False, 'contains(spider-man)': False, 'contains(spider)': False, 'contains(83338)': False, 'contains(8ball)': False, 'contains(tamilnadu..then)': False, 'contains(07808247860)': False, 'contains(08719899229)': False, 'contains(40411)': False, 'contains(06/11/04)': False, 'contains(identif)': False, 'contains(boundari)': False, 'contains(endless)': False, 'contains(young)': False, 'contains(referin)': False, 'contains(difference..)': False, 'contains(smiling..)': False, 'contains(saibaba)': False, 'contains(colani)': False, 'contains(chic)': False, 'contains(declar)': False, 'contains(49557)': False, 'contains(26/11/04)': False, 'contains(disappoint)': False, 'contains(tantrum)': False, 'contains(compliment)': False, 'contains(chief)': False, 'contains(gsex)': False, 'contains(2667)': False, 'contains(wc1n)': False, 'contains(3mobil)': False, 'contains(chatlin)': False, 'contains(inclu)': False, 'contains(l8er)': False, 'contains(bailiff)': False, 'contains(mous)': False, 'contains(desk)': False, 'contains(childporn)': False, 'contains(jumper)': False, 'contains(belt)': False, 'contains(cribb)': False, 'contains(spiritu)': False, 'contains(sudden)': False, 'contains(influx)': False, 'contains(kane)': False, 'contains(shud)': False, 'contains(pshew)': False, 'contains(accent)': False, 'contains(4year)': False, 'contains(dental)': False, 'contains(nmde)': False, 'contains(dump)': False, 'contains(heap)': False, 'contains(salesman)': False, 'contains(2.50)': False, 'contains(ĺł750)': False, 'contains(087187272008)': False, 'contains(now1)': False, 'contains(piti)': False}, 'ham')]\n"
    }
   ],
   "source": [
    "print(training_set[:1])"
   ]
  },
  {
   "cell_type": "code",
   "execution_count": 179,
   "metadata": {
    "tags": []
   },
   "outputs": [
    {
     "output_type": "stream",
     "name": "stdout",
     "text": "Training set size :  4457\nTest set size :  1115\n"
    }
   ],
   "source": [
    "print('Training set size : ', len(training_set))\n",
    "print('Test set size : ', len(testing_set))"
   ]
  },
  {
   "cell_type": "code",
   "execution_count": 180,
   "metadata": {},
   "outputs": [],
   "source": [
    "## Training the classifier with NaiveBayes algorithm\n",
    "spamClassifier = nltk.NaiveBayesClassifier.train(training_set)"
   ]
  },
  {
   "cell_type": "code",
   "execution_count": 181,
   "metadata": {
    "tags": []
   },
   "outputs": [
    {
     "output_type": "stream",
     "name": "stdout",
     "text": "0.9914740857078752\n"
    }
   ],
   "source": [
    "## - Analyzing the accuracy of the test set\n",
    "print(nltk.classify.accuracy(spamClassifier, training_set))"
   ]
  },
  {
   "cell_type": "code",
   "execution_count": 182,
   "metadata": {
    "tags": []
   },
   "outputs": [
    {
     "output_type": "stream",
     "name": "stdout",
     "text": "0.9820627802690582\n"
    }
   ],
   "source": [
    "## Analyzing the accuracy of the test set\n",
    "print(nltk.classify.accuracy(spamClassifier, testing_set))"
   ]
  },
  {
   "cell_type": "code",
   "execution_count": 183,
   "metadata": {
    "tags": []
   },
   "outputs": [
    {
     "output_type": "stream",
     "name": "stdout",
     "text": "Classification result :  ham\n"
    }
   ],
   "source": [
    "## Testing a example message with our newly trained classifier\n",
    "m = 'CONGRATULATIONS!! As a valued account holder you have been selected to receive a £900 prize reward! Valid 12 hours only.'\n",
    "print('Classification result : ', spamClassifier.classify(extract_features(m.split())))"
   ]
  },
  {
   "cell_type": "code",
   "execution_count": null,
   "metadata": {},
   "outputs": [],
   "source": []
  }
 ]
}